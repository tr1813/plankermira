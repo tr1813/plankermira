{
 "cells": [
  {
   "cell_type": "code",
   "execution_count": 28,
   "metadata": {},
   "outputs": [],
   "source": [
    "import sqlite3 as sql \n",
    "import numpy as np\n",
    "import pandas as pd\n",
    "import matplotlib.pyplot as plt"
   ]
  },
  {
   "cell_type": "code",
   "execution_count": 29,
   "metadata": {},
   "outputs": [
    {
     "data": {
      "text/plain": [
       "<sqlite3.Cursor at 0x1635a89f540>"
      ]
     },
     "execution_count": 29,
     "metadata": {},
     "output_type": "execute_result"
    }
   ],
   "source": [
    "db = \"plankermira/out/Nordwandschacht.sql\"\n",
    "CAVENAME = \"Nordwandschacht\"\n",
    "conn = sql.connect(':memory:')\n",
    "conn.executescript(open(db).read())"
   ]
  },
  {
   "cell_type": "code",
   "execution_count": null,
   "metadata": {},
   "outputs": [],
   "source": []
  },
  {
   "cell_type": "code",
   "execution_count": 30,
   "metadata": {},
   "outputs": [],
   "source": [
    "def trig_to_cart(length, bearing, gradient):\n",
    "    n = np.array([np.cos(np.pi/2 - bearing* np.pi / 180), \n",
    "              np.sin(np.pi/2 - bearing* np.pi / 180), \n",
    "              np.sin(gradient* np.pi / 180)])\n",
    "    \n",
    "    v = length * n / np.linalg.norm(n)\n",
    "    return v"
   ]
  },
  {
   "cell_type": "code",
   "execution_count": 31,
   "metadata": {},
   "outputs": [],
   "source": [
    "def returnlrud(stn_id, c):\n",
    "\n",
    "    # collect LRUD data from a single shot\n",
    "\n",
    "    c.execute(f\"SELECT su.NAME, stn1.NAME, stn2.NAME, sh.LENGTH, sh.BEARING, sh.GRADIENT, sf.FLAG \\\n",
    "            from STATION as stn1, STATION as stn2, SHOT as sh, SURVEY as su \\\n",
    "            LEFT OUTER JOIN SHOT_FLAG sf \\\n",
    "            ON sh.ID == sf.SHOT_ID \\\n",
    "            where stn1.SURVEY_ID == su.ID and stn1.ID == {stn_id} and stn1.ID == sh.FROM_ID and stn2.ID == sh.TO_ID;\")\n",
    "\n",
    "    columns = [\"su.NAME\", \"stn1.NAME\", \"stn2.NAME\", \"sh.LENGTH\", \"sh.BEARING\", \"sh.GRADIENT\", \"sf.FLAG\" ]\n",
    "\n",
    "\n",
    "    data = pd.DataFrame(c.fetchall(), columns=columns)\n",
    "\n",
    "    shots = data[data[\"stn2.NAME\"]!=\".\"]\n",
    "    splays = data[data[\"stn2.NAME\"]==\".\"]\n",
    "\n",
    "    normal_bearing, normal_gradient = np.average(shots[[\"sh.BEARING\", \"sh.GRADIENT\"]], axis =0)\n",
    "\n",
    "    n_hat = trig_to_cart(1, normal_bearing, normal_gradient)\n",
    "\n",
    "    # find the two plane vectors. One is horizontal, \n",
    "\n",
    "    u = np.array([n_hat[1], -n_hat[0], 0])\n",
    "    u_hat = u / np.linalg.norm(u)\n",
    "    v_hat = np.cross(u_hat, n_hat)\n",
    "\n",
    "    # project the splays in a plane defined by nhat. \n",
    "\n",
    "    splays_proj = []\n",
    "    for splay in splays.values:\n",
    "        l, bearing, gradient = splay[[3,4,5]]\n",
    "        v = trig_to_cart(l, bearing, gradient)\n",
    "\n",
    "        if np.abs(n_hat @ v / np.linalg.norm(v)) < 0.4:\n",
    "            spl_proj = np.array([u_hat @ v, v_hat @ v])\n",
    "            splays_proj.append(spl_proj)\n",
    "\n",
    "    splays_proj = np.array(splays_proj)\n",
    "\n",
    "    if splays_proj.shape[0] >= 4:\n",
    "        \n",
    "        left = \"{:.2f}\".format(np.abs(np.min(splays_proj[:,0])))\n",
    "        right = \"{:.2f}\".format(np.abs(np.max(splays_proj[:,0])))\n",
    "        up =  \"{:.2f}\".format(np.abs(np.max(splays_proj[:,1])))\n",
    "        down = \"{:.2f}\".format(np.abs(np.min(splays_proj[:,1])))\n",
    "    else:\n",
    "        left, right, up, down = \"0.00\", \"0.00\", \"0.00\", \"0.00\"\n",
    "\n",
    "    return left, right, up, down\n"
   ]
  },
  {
   "cell_type": "code",
   "execution_count": 32,
   "metadata": {},
   "outputs": [
    {
     "data": {
      "text/plain": [
       "<sqlite3.Cursor at 0x1635b325540>"
      ]
     },
     "execution_count": 32,
     "metadata": {},
     "output_type": "execute_result"
    }
   ],
   "source": [
    "c = conn.cursor()\n",
    "\n",
    "c.execute(\"SELECT ct.TITLE, ct.TOPO_DATE, su2.NAME, su1.NAME, stn1.NAME, su2.NAME, su1.NAME, stn2.NAME, sh.ADJ_LENGTH, sh.BEARING, sh.GRADIENT, sf.FLAG, stn1.ID \\\n",
    "          from STATION as stn1, STATION as STN2, SHOT as sh, SURVEY as su1, SURVEY as su2, CENTRELINE as ct\\\n",
    "          LEFT OUTER JOIN SHOT_FLAG sf \\\n",
    "          ON sh.ID == sf.SHOT_ID \\\n",
    "          where stn1.ID == sh.FROM_ID and stn2.ID == sh.TO_ID and stn2.NAME != '-' and stn2.NAME != '.' \\\n",
    "          and stn1.SURVEY_ID == su1.ID and su1.PARENT_ID == su2.ID and sh.CENTRELINE_ID == ct.ID;\")"
   ]
  },
  {
   "cell_type": "code",
   "execution_count": 33,
   "metadata": {},
   "outputs": [],
   "source": [
    "shot_data = pd.DataFrame(c.fetchall())"
   ]
  },
  {
   "cell_type": "code",
   "execution_count": 34,
   "metadata": {},
   "outputs": [
    {
     "data": {
      "text/html": [
       "<div>\n",
       "<style scoped>\n",
       "    .dataframe tbody tr th:only-of-type {\n",
       "        vertical-align: middle;\n",
       "    }\n",
       "\n",
       "    .dataframe tbody tr th {\n",
       "        vertical-align: top;\n",
       "    }\n",
       "\n",
       "    .dataframe thead th {\n",
       "        text-align: right;\n",
       "    }\n",
       "</style>\n",
       "<table border=\"1\" class=\"dataframe\">\n",
       "  <thead>\n",
       "    <tr style=\"text-align: right;\">\n",
       "      <th></th>\n",
       "      <th>0</th>\n",
       "      <th>1</th>\n",
       "      <th>2</th>\n",
       "      <th>3</th>\n",
       "      <th>4</th>\n",
       "      <th>5</th>\n",
       "      <th>6</th>\n",
       "      <th>7</th>\n",
       "      <th>8</th>\n",
       "      <th>9</th>\n",
       "      <th>10</th>\n",
       "      <th>11</th>\n",
       "      <th>12</th>\n",
       "    </tr>\n",
       "  </thead>\n",
       "  <tbody>\n",
       "    <tr>\n",
       "      <th>0</th>\n",
       "      <td>Oberer Teil der Tiefenbronner Halle</td>\n",
       "      <td>2023-08-13</td>\n",
       "      <td>nw</td>\n",
       "      <td>1</td>\n",
       "      <td>7</td>\n",
       "      <td>nw</td>\n",
       "      <td>1</td>\n",
       "      <td>0</td>\n",
       "      <td>2.586</td>\n",
       "      <td>24.04</td>\n",
       "      <td>0.8</td>\n",
       "      <td>None</td>\n",
       "      <td>283</td>\n",
       "    </tr>\n",
       "    <tr>\n",
       "      <th>1</th>\n",
       "      <td>Oberer Teil der Tiefenbronner Halle</td>\n",
       "      <td>2023-08-13</td>\n",
       "      <td>nw</td>\n",
       "      <td>1</td>\n",
       "      <td>0</td>\n",
       "      <td>nw</td>\n",
       "      <td>1</td>\n",
       "      <td>1</td>\n",
       "      <td>8.994</td>\n",
       "      <td>81.64</td>\n",
       "      <td>-2.7</td>\n",
       "      <td>None</td>\n",
       "      <td>1</td>\n",
       "    </tr>\n",
       "    <tr>\n",
       "      <th>2</th>\n",
       "      <td>Oberer Teil der Tiefenbronner Halle</td>\n",
       "      <td>2023-08-13</td>\n",
       "      <td>nw</td>\n",
       "      <td>1</td>\n",
       "      <td>1</td>\n",
       "      <td>nw</td>\n",
       "      <td>1</td>\n",
       "      <td>2</td>\n",
       "      <td>11.743</td>\n",
       "      <td>85.64</td>\n",
       "      <td>28.0</td>\n",
       "      <td>None</td>\n",
       "      <td>41</td>\n",
       "    </tr>\n",
       "    <tr>\n",
       "      <th>3</th>\n",
       "      <td>Oberer Teil der Tiefenbronner Halle</td>\n",
       "      <td>2023-08-13</td>\n",
       "      <td>nw</td>\n",
       "      <td>1</td>\n",
       "      <td>2</td>\n",
       "      <td>nw</td>\n",
       "      <td>1</td>\n",
       "      <td>2.1</td>\n",
       "      <td>15.685</td>\n",
       "      <td>11.04</td>\n",
       "      <td>2.5</td>\n",
       "      <td>None</td>\n",
       "      <td>64</td>\n",
       "    </tr>\n",
       "    <tr>\n",
       "      <th>4</th>\n",
       "      <td>Oberer Teil der Tiefenbronner Halle</td>\n",
       "      <td>2023-08-13</td>\n",
       "      <td>nw</td>\n",
       "      <td>1</td>\n",
       "      <td>2.1</td>\n",
       "      <td>nw</td>\n",
       "      <td>1</td>\n",
       "      <td>2.2</td>\n",
       "      <td>3.948</td>\n",
       "      <td>19.64</td>\n",
       "      <td>17.2</td>\n",
       "      <td>None</td>\n",
       "      <td>74</td>\n",
       "    </tr>\n",
       "    <tr>\n",
       "      <th>...</th>\n",
       "      <td>...</td>\n",
       "      <td>...</td>\n",
       "      <td>...</td>\n",
       "      <td>...</td>\n",
       "      <td>...</td>\n",
       "      <td>...</td>\n",
       "      <td>...</td>\n",
       "      <td>...</td>\n",
       "      <td>...</td>\n",
       "      <td>...</td>\n",
       "      <td>...</td>\n",
       "      <td>...</td>\n",
       "      <td>...</td>\n",
       "    </tr>\n",
       "    <tr>\n",
       "      <th>265</th>\n",
       "      <td>Shawshank-Redemption-Schluf</td>\n",
       "      <td>2024-08-14</td>\n",
       "      <td>nw</td>\n",
       "      <td>5</td>\n",
       "      <td>32</td>\n",
       "      <td>nw</td>\n",
       "      <td>5</td>\n",
       "      <td>33</td>\n",
       "      <td>5.126</td>\n",
       "      <td>22.89</td>\n",
       "      <td>-48.7</td>\n",
       "      <td>None</td>\n",
       "      <td>3347</td>\n",
       "    </tr>\n",
       "    <tr>\n",
       "      <th>266</th>\n",
       "      <td>Shawshank-Redemption-Schluf</td>\n",
       "      <td>2024-08-14</td>\n",
       "      <td>nw</td>\n",
       "      <td>5</td>\n",
       "      <td>33</td>\n",
       "      <td>nw</td>\n",
       "      <td>5</td>\n",
       "      <td>34</td>\n",
       "      <td>2.968</td>\n",
       "      <td>243.79</td>\n",
       "      <td>-29.3</td>\n",
       "      <td>None</td>\n",
       "      <td>3363</td>\n",
       "    </tr>\n",
       "    <tr>\n",
       "      <th>267</th>\n",
       "      <td>Shawshank-Redemption-Schluf</td>\n",
       "      <td>2024-08-14</td>\n",
       "      <td>nw</td>\n",
       "      <td>5</td>\n",
       "      <td>34</td>\n",
       "      <td>nw</td>\n",
       "      <td>5</td>\n",
       "      <td>35</td>\n",
       "      <td>5.438</td>\n",
       "      <td>263.29</td>\n",
       "      <td>-59.4</td>\n",
       "      <td>None</td>\n",
       "      <td>3385</td>\n",
       "    </tr>\n",
       "    <tr>\n",
       "      <th>268</th>\n",
       "      <td>Shawshank-Redemption-Schluf</td>\n",
       "      <td>2024-08-14</td>\n",
       "      <td>nw</td>\n",
       "      <td>5</td>\n",
       "      <td>33</td>\n",
       "      <td>nw</td>\n",
       "      <td>5</td>\n",
       "      <td>36</td>\n",
       "      <td>3.923</td>\n",
       "      <td>327.09</td>\n",
       "      <td>8.2</td>\n",
       "      <td>None</td>\n",
       "      <td>3363</td>\n",
       "    </tr>\n",
       "    <tr>\n",
       "      <th>269</th>\n",
       "      <td>Shawshank-Redemption-Schluf</td>\n",
       "      <td>2024-08-14</td>\n",
       "      <td>nw</td>\n",
       "      <td>5</td>\n",
       "      <td>36</td>\n",
       "      <td>nw</td>\n",
       "      <td>5</td>\n",
       "      <td>37</td>\n",
       "      <td>8.158</td>\n",
       "      <td>338.99</td>\n",
       "      <td>-68.7</td>\n",
       "      <td>None</td>\n",
       "      <td>3405</td>\n",
       "    </tr>\n",
       "  </tbody>\n",
       "</table>\n",
       "<p>270 rows × 13 columns</p>\n",
       "</div>"
      ],
      "text/plain": [
       "                                      0           1   2  3    4   5  6    7   \\\n",
       "0    Oberer Teil der Tiefenbronner Halle  2023-08-13  nw  1    7  nw  1    0   \n",
       "1    Oberer Teil der Tiefenbronner Halle  2023-08-13  nw  1    0  nw  1    1   \n",
       "2    Oberer Teil der Tiefenbronner Halle  2023-08-13  nw  1    1  nw  1    2   \n",
       "3    Oberer Teil der Tiefenbronner Halle  2023-08-13  nw  1    2  nw  1  2.1   \n",
       "4    Oberer Teil der Tiefenbronner Halle  2023-08-13  nw  1  2.1  nw  1  2.2   \n",
       "..                                   ...         ...  .. ..  ...  .. ..  ...   \n",
       "265          Shawshank-Redemption-Schluf  2024-08-14  nw  5   32  nw  5   33   \n",
       "266          Shawshank-Redemption-Schluf  2024-08-14  nw  5   33  nw  5   34   \n",
       "267          Shawshank-Redemption-Schluf  2024-08-14  nw  5   34  nw  5   35   \n",
       "268          Shawshank-Redemption-Schluf  2024-08-14  nw  5   33  nw  5   36   \n",
       "269          Shawshank-Redemption-Schluf  2024-08-14  nw  5   36  nw  5   37   \n",
       "\n",
       "         8       9     10    11    12  \n",
       "0     2.586   24.04   0.8  None   283  \n",
       "1     8.994   81.64  -2.7  None     1  \n",
       "2    11.743   85.64  28.0  None    41  \n",
       "3    15.685   11.04   2.5  None    64  \n",
       "4     3.948   19.64  17.2  None    74  \n",
       "..      ...     ...   ...   ...   ...  \n",
       "265   5.126   22.89 -48.7  None  3347  \n",
       "266   2.968  243.79 -29.3  None  3363  \n",
       "267   5.438  263.29 -59.4  None  3385  \n",
       "268   3.923  327.09   8.2  None  3363  \n",
       "269   8.158  338.99 -68.7  None  3405  \n",
       "\n",
       "[270 rows x 13 columns]"
      ]
     },
     "execution_count": 34,
     "metadata": {},
     "output_type": "execute_result"
    }
   ],
   "source": [
    "shot_data"
   ]
  },
  {
   "cell_type": "code",
   "execution_count": 35,
   "metadata": {},
   "outputs": [],
   "source": [
    "_2024_dpl = np.sum(shot_data[np.logical_and(shot_data[3].astype(int)>0, shot_data[11]==\"dpl\")][8].values)\n",
    "_2024_total = np.sum(shot_data[shot_data[3].astype(int)>0][8].values)"
   ]
  },
  {
   "cell_type": "code",
   "execution_count": 36,
   "metadata": {},
   "outputs": [
    {
     "name": "stdout",
     "output_type": "stream",
     "text": [
      "2382.77\n",
      "1808.749\n"
     ]
    }
   ],
   "source": [
    "_2024_total -_2024_dpl\n",
    "print(_2024_total)\n",
    "print(_2024_total - _2024_dpl)"
   ]
  },
  {
   "cell_type": "code",
   "execution_count": 37,
   "metadata": {},
   "outputs": [],
   "source": [
    "series_titles= shot_data[0].unique()\n",
    "series_dates = shot_data[1].unique()"
   ]
  },
  {
   "cell_type": "code",
   "execution_count": 38,
   "metadata": {},
   "outputs": [],
   "source": [
    "topoteams = []\n",
    "dates = []\n",
    "for series_date in series_dates:\n",
    "    topoteam = \"\"\n",
    "    sep = \" \"\n",
    "    date = sep.join(series_date.split(\"-\")[::-1])\n",
    "    monthfirst = date[1] + date[0] + date[2]\n",
    "\n",
    "    c.execute(f\"SELECT pp.NAME, pp.SURNAME from PERSON pp, CENTRELINE ct, TOPO tp\\\n",
    "              where tp.PERSON_ID == pp.ID and ct.ID == tp.CENTRELINE_ID and ct.TOPO_DATE == '{series_date}';\")\n",
    "    for name, surname in c.fetchall():\n",
    "        topoteam+= f\"{name} {surname}, \"\n",
    "    \n",
    "    topoteams.append(topoteam[:-2])\n",
    "    dates.append(monthfirst)\n"
   ]
  },
  {
   "cell_type": "code",
   "execution_count": 39,
   "metadata": {},
   "outputs": [
    {
     "data": {
      "text/plain": [
       "array(['Oberer Teil der Tiefenbronner Halle',\n",
       "       'Unterer Teil der Tiefenbronner Halle', 'Zugzwang Gang',\n",
       "       'Eingangschächte der Nordwandschacht', 'Aglarond', 'Vesuv-Dom',\n",
       "       'Shawshank-Redemption-Schluf'], dtype=object)"
      ]
     },
     "execution_count": 39,
     "metadata": {},
     "output_type": "execute_result"
    }
   ],
   "source": [
    "series_titles"
   ]
  },
  {
   "cell_type": "code",
   "execution_count": 40,
   "metadata": {},
   "outputs": [],
   "source": [
    "duplicate_shot = \"#|L#\"\n",
    "survey_name = \"SURVEY NAME: {survey_name}\"\n",
    "survey_date = \"SURVEY DATE: {survey date}\"\n",
    "survey_team = \"SURVEY TEAM: \\n{survey team}\"\n",
    "centreline_header = \"\"\"DECLINATION:    0.00  FORMAT: DMMDLRUDLDAN  CORRECTIONS:  0.00 0.00 0.00\n",
    "\n",
    "        FROM           TO   LENGTH  BEARING      INC     LEFT       UP     DOWN    RIGHT   FLAGS  COMMENTS\"\"\""
   ]
  },
  {
   "cell_type": "code",
   "execution_count": 41,
   "metadata": {},
   "outputs": [],
   "source": [
    "feet = 3.2808399"
   ]
  },
  {
   "cell_type": "code",
   "execution_count": 42,
   "metadata": {},
   "outputs": [],
   "source": [
    "shot_stub = \"\"\"{: >12}{: >13}{: >9}{: >9}{: >9}{: >9}{: >9}{: >9}{: >9}  {}\\n\"\"\""
   ]
  },
  {
   "cell_type": "code",
   "execution_count": 43,
   "metadata": {},
   "outputs": [
    {
     "data": {
      "text/plain": [
       "array(['Oberer Teil der Tiefenbronner Halle',\n",
       "       'Unterer Teil der Tiefenbronner Halle', 'Zugzwang Gang',\n",
       "       'Eingangschächte der Nordwandschacht', 'Aglarond', 'Vesuv-Dom',\n",
       "       'Shawshank-Redemption-Schluf'], dtype=object)"
      ]
     },
     "execution_count": 43,
     "metadata": {},
     "output_type": "execute_result"
    }
   ],
   "source": [
    "series_titles"
   ]
  },
  {
   "cell_type": "code",
   "execution_count": 44,
   "metadata": {},
   "outputs": [],
   "source": [
    "survey_names = [\"NWS1A\", \"NWS1B\", \"NWS2\", \"NWS3\", \"NWS4A\", \"NWS4B\", \"NWS5\"]"
   ]
  },
  {
   "cell_type": "code",
   "execution_count": 47,
   "metadata": {},
   "outputs": [],
   "source": [
    "compass_file = \"\"\n",
    "\n",
    "for survey_name, serie, title in zip(survey_names, series_dates, series_titles):\n",
    "\n",
    "    topoteam = \"\"\n",
    "    sep = \" \"\n",
    "    date = serie.split(\"-\")[::-1]\n",
    "    monthfirst = f\"{date[1]} {date[0]} {date[2]}\"\n",
    "    \n",
    "\n",
    "    c.execute(f\"SELECT pp.NAME, pp.SURNAME from PERSON pp, CENTRELINE ct, TOPO tp\\\n",
    "              where tp.PERSON_ID == pp.ID and ct.ID == tp.CENTRELINE_ID and ct.TOPO_DATE == '{serie}';\")\n",
    "    \n",
    "    for name, surname in c.fetchall():\n",
    "        if f\"{name} {surname}\" not in topoteam:\n",
    "            topoteam+= f\"{name} {surname}, \"\n",
    "\n",
    "    centreline_stub = \"\"\"{cavename}\n",
    "SURVEY NAME: {survey_name}\n",
    "SURVEY DATE: {formatted_date}   COMMENT: {formatted_name}\n",
    "SURVEY TEAM:\n",
    "{formatted_team}\n",
    "{header}\n",
    "\n",
    "{shots}\f\n",
    "\"\"\"\n",
    "    # extract the shot data  \n",
    "    ct = shot_data[shot_data[1] == serie]\n",
    "\n",
    "    formatted_shots = \"\"\n",
    "\n",
    "    for index, shot in ct.iterrows():\n",
    "\n",
    "        stn_from = shot[2] +\".\" + shot[3] +\".\" + shot[4]\n",
    "        stn_to = shot[5] +\".\" + shot[6] +\".\" + shot[7]\n",
    "        tape = f\"{float(shot[8]) * feet:.4f}\"\n",
    "        comp = shot[9] \n",
    "        inc = shot[10]\n",
    "        stn1id = shot[12]\n",
    "\n",
    "        l, r, u, d = returnlrud(stn_id=stn1id, c=c)\n",
    "        if shot[11] == \"dpl\":\n",
    "            flag = duplicate_shot\n",
    "        else:\n",
    "            flag = \" \"\n",
    "\n",
    "        formatted_shots+= shot_stub.format(stn_from, \n",
    "                                           stn_to, \n",
    "                                           tape, \n",
    "                                           comp, \n",
    "                                           inc,\n",
    "                                           \"0.00\", \n",
    "                                           \"0.00\", \n",
    "                                           \"0.00\", \n",
    "                                           \"0.00\", \n",
    "                                           flag)\n",
    "\n",
    "\n",
    "    formatted_centreline = centreline_stub.format(cavename =CAVENAME,\n",
    "                                                  survey_name = survey_name,\n",
    "                                                  formatted_name = title, \n",
    "                                                  formatted_date = monthfirst,\n",
    "                                                  formatted_team = topoteam[:-2],\n",
    "                                                  header = centreline_header,\n",
    "                                                  shots = formatted_shots)\n",
    "    \n",
    "    compass_file += formatted_centreline"
   ]
  },
  {
   "cell_type": "code",
   "execution_count": 48,
   "metadata": {},
   "outputs": [],
   "source": [
    "with open(\"plankermira/out/Nordwandschacht_conv5.DAT\", \"w\") as f:\n",
    "    f.write(compass_file)\n",
    "    f.close()"
   ]
  },
  {
   "cell_type": "code",
   "execution_count": null,
   "metadata": {},
   "outputs": [],
   "source": []
  },
  {
   "cell_type": "code",
   "execution_count": null,
   "metadata": {},
   "outputs": [],
   "source": []
  }
 ],
 "metadata": {
  "kernelspec": {
   "display_name": "base",
   "language": "python",
   "name": "python3"
  },
  "language_info": {
   "codemirror_mode": {
    "name": "ipython",
    "version": 3
   },
   "file_extension": ".py",
   "mimetype": "text/x-python",
   "name": "python",
   "nbconvert_exporter": "python",
   "pygments_lexer": "ipython3",
   "version": "3.11.5"
  }
 },
 "nbformat": 4,
 "nbformat_minor": 2
}
