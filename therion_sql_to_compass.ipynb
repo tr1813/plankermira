{
 "cells": [
  {
   "cell_type": "code",
   "execution_count": 65,
   "metadata": {},
   "outputs": [],
   "source": [
    "import sqlite3 as sql \n",
    "import numpy as np\n",
    "import pandas as pd"
   ]
  },
  {
   "cell_type": "code",
   "execution_count": 66,
   "metadata": {},
   "outputs": [
    {
     "data": {
      "text/plain": [
       "<sqlite3.Cursor at 0x1410d8ef940>"
      ]
     },
     "execution_count": 66,
     "metadata": {},
     "output_type": "execute_result"
    }
   ],
   "source": [
    "db = \"plankermira/out/Nordwandschacht.sql\"\n",
    "CAVENAME = \"Nordwandschacht\"\n",
    "conn = sql.connect(':memory:')\n",
    "conn.executescript(open(db).read())"
   ]
  },
  {
   "cell_type": "code",
   "execution_count": 67,
   "metadata": {},
   "outputs": [
    {
     "data": {
      "text/plain": [
       "<sqlite3.Cursor at 0x1410f1dd2c0>"
      ]
     },
     "execution_count": 67,
     "metadata": {},
     "output_type": "execute_result"
    }
   ],
   "source": [
    "c = conn.cursor()\n",
    "\n",
    "c.execute(\"SELECT ct.TITLE, ct.TOPO_DATE, su2.NAME, su1.NAME, stn1.NAME, su2.NAME, su1.NAME, stn2.NAME, sh.LENGTH, sh.BEARING, sh.GRADIENT, sf.FLAG \\\n",
    "          from STATION as stn1, STATION as STN2, SHOT as sh, SURVEY as su1, SURVEY as su2, CENTRELINE as ct\\\n",
    "          LEFT OUTER JOIN SHOT_FLAG sf \\\n",
    "          ON sh.ID == sf.SHOT_ID \\\n",
    "          where stn1.ID == sh.FROM_ID and stn2.ID == sh.TO_ID and stn2.NAME != '-' and stn2.NAME != '.' \\\n",
    "          and stn1.SURVEY_ID == su1.ID and su1.PARENT_ID == su2.ID and sh.CENTRELINE_ID == ct.ID;\")"
   ]
  },
  {
   "cell_type": "code",
   "execution_count": 68,
   "metadata": {},
   "outputs": [],
   "source": [
    "shot_data = pd.DataFrame(c.fetchall())"
   ]
  },
  {
   "cell_type": "code",
   "execution_count": 69,
   "metadata": {},
   "outputs": [],
   "source": [
    "series_titles= shot_data[0].unique()\n",
    "series_dates = shot_data[1].unique()"
   ]
  },
  {
   "cell_type": "code",
   "execution_count": 70,
   "metadata": {},
   "outputs": [],
   "source": [
    "topoteams = []\n",
    "dates = []\n",
    "for series_date in series_dates:\n",
    "    topoteam = \"\"\n",
    "    sep = \" \"\n",
    "    date = sep.join(series_date.split(\"-\")[::-1])\n",
    "    monthfirst = date[1] + date[0] + date[2]\n",
    "\n",
    "    c.execute(f\"SELECT pp.NAME, pp.SURNAME from PERSON pp, CENTRELINE ct, TOPO tp\\\n",
    "              where tp.PERSON_ID == pp.ID and ct.ID == tp.CENTRELINE_ID and ct.TOPO_DATE == '{series_date}';\")\n",
    "    for name, surname in c.fetchall():\n",
    "        topoteam+= f\"{name} {surname}, \"\n",
    "    \n",
    "    topoteams.append(topoteam[:-2])\n",
    "    dates.append(monthfirst)\n"
   ]
  },
  {
   "cell_type": "code",
   "execution_count": 71,
   "metadata": {},
   "outputs": [
    {
     "data": {
      "text/plain": [
       "array(['Oberer Teil der Tiefenbronner Halle',\n",
       "       'Unterer Teil der Tiefenbronner Halle', 'Zugzwang Gang',\n",
       "       'Eingangschächte der Nordwandschacht', 'Aglarond', 'Vesuv-Dom',\n",
       "       'Shawshank-Redemption-Schluf'], dtype=object)"
      ]
     },
     "execution_count": 71,
     "metadata": {},
     "output_type": "execute_result"
    }
   ],
   "source": [
    "series_titles"
   ]
  },
  {
   "cell_type": "code",
   "execution_count": 72,
   "metadata": {},
   "outputs": [],
   "source": [
    "duplicate_shot = \"#|L#\"\n",
    "survey_name = \"SURVEY NAME: {survey_name}\"\n",
    "survey_date = \"SURVEY DATE: {survey date}\"\n",
    "survey_team = \"SURVEY TEAM: \\n{survey team}\"\n",
    "centreline_header = \"\"\"DECLINATION:    0.00  FORMAT: DMMDLRUDLDAN  CORRECTIONS:  0.00 0.00 0.00\n",
    "\n",
    "        FROM           TO   LENGTH  BEARING      INC     LEFT       UP     DOWN    RIGHT   FLAGS  COMMENTS\"\"\""
   ]
  },
  {
   "cell_type": "code",
   "execution_count": 73,
   "metadata": {},
   "outputs": [],
   "source": [
    "feet = 3.2808399"
   ]
  },
  {
   "cell_type": "code",
   "execution_count": 74,
   "metadata": {},
   "outputs": [],
   "source": [
    "shot_stub = \"\"\"{: >12}{: >13}{: >9}{: >9}{: >9}     0.00     0.00     0.00     0.00  {}\\n\"\"\""
   ]
  },
  {
   "cell_type": "code",
   "execution_count": 75,
   "metadata": {},
   "outputs": [],
   "source": [
    "compass_file = \"\"\n",
    "\n",
    "for serie, title in zip(series_dates, series_titles):\n",
    "\n",
    "    topoteam = \"\"\n",
    "    sep = \" \"\n",
    "    date = serie.split(\"-\")[::-1]\n",
    "    monthfirst = f\"{date[1]} {date[0]} {date[2]}\"\n",
    "    \n",
    "\n",
    "    c.execute(f\"SELECT pp.NAME, pp.SURNAME from PERSON pp, CENTRELINE ct, TOPO tp\\\n",
    "              where tp.PERSON_ID == pp.ID and ct.ID == tp.CENTRELINE_ID and ct.TOPO_DATE == '{serie}';\")\n",
    "    \n",
    "    for name, surname in c.fetchall():\n",
    "        if f\"{name} {surname}\" not in topoteam:\n",
    "            topoteam+= f\"{name} {surname}, \"\n",
    "\n",
    "    centreline_stub = \"\"\"{cavename}\n",
    "SURVEY NAME: {formatted_name}\n",
    "SURVEY DATE: {formatted_date}   COMMENT:\n",
    "SURVEY TEAM:\n",
    "{formatted_team}\n",
    "{header}\n",
    "\n",
    "{shots}\n",
    "\"\"\"\n",
    "    # extract the shot data  \n",
    "    ct = shot_data[shot_data[1] == serie]\n",
    "\n",
    "    formatted_shots = \"\"\n",
    "\n",
    "    for index, shot in ct.iterrows():\n",
    "\n",
    "        stn_from = shot[2] +\".\" + shot[3] +\".\" + shot[4]\n",
    "        stn_to = shot[5] +\".\" + shot[6] +\".\" + shot[7]\n",
    "        tape = f\"{float(shot[8]) * feet:.2f}\"\n",
    "        comp = shot[9] \n",
    "        inc = shot[10]\n",
    "\n",
    "        if shot[11] == \"dpl\":\n",
    "            flag = duplicate_shot\n",
    "        else:\n",
    "            flag = \" \"\n",
    "\n",
    "        formatted_shots+= shot_stub.format(stn_from, stn_to, tape, comp, inc, flag)\n",
    "\n",
    "\n",
    "    formatted_centreline = centreline_stub.format(cavename =CAVENAME,\n",
    "                                                  formatted_name = title, \n",
    "                                                  formatted_date = monthfirst,\n",
    "                                                  formatted_team = topoteam[:-2],\n",
    "                                                  header = centreline_header,\n",
    "                                                  shots = formatted_shots)\n",
    "    \n",
    "    compass_file += formatted_centreline"
   ]
  },
  {
   "cell_type": "code",
   "execution_count": 76,
   "metadata": {},
   "outputs": [],
   "source": [
    "with open(\"plankermira/out/Nordwandschacht.DAT\", \"w\") as f:\n",
    "    f.write(compass_file)\n",
    "    f.close()"
   ]
  },
  {
   "cell_type": "code",
   "execution_count": null,
   "metadata": {},
   "outputs": [],
   "source": []
  },
  {
   "cell_type": "code",
   "execution_count": null,
   "metadata": {},
   "outputs": [],
   "source": []
  }
 ],
 "metadata": {
  "kernelspec": {
   "display_name": "base",
   "language": "python",
   "name": "python3"
  },
  "language_info": {
   "codemirror_mode": {
    "name": "ipython",
    "version": 3
   },
   "file_extension": ".py",
   "mimetype": "text/x-python",
   "name": "python",
   "nbconvert_exporter": "python",
   "pygments_lexer": "ipython3",
   "version": "3.11.5"
  }
 },
 "nbformat": 4,
 "nbformat_minor": 2
}
